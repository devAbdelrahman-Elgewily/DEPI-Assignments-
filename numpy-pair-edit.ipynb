{
 "cells": [
  {
   "cell_type": "markdown",
   "metadata": {},
   "source": [
    "# NumPy Pair Problem\n",
    "\n",
    "For today's pair, we will use NumPy to complete the following tasks consecutively."
   ]
  },
  {
   "cell_type": "code",
   "execution_count": 2,
   "metadata": {},
   "outputs": [],
   "source": [
    "import numpy as np\n",
    "\n",
    "# Set random seed so that results are reproducible \n",
    "np.random.seed(0)"
   ]
  },
  {
   "cell_type": "markdown",
   "metadata": {},
   "source": [
    "### 1. Generate three separate 1-dimensional arrays of 10,000 elements each.\n",
    "* Array 1 should contain numbers randomly drawn from the uniform distribution between 1 and 100\n",
    "* Array 2 should contain numbers randomly drawn from the normal distribution, with a mean of 0 and a standard deviation of 1\n",
    "* Array 3 should contain numbers randomly drawn from the binomial distribution, where n=10 and p=0.5"
   ]
  },
  {
   "cell_type": "code",
   "execution_count": 3,
   "metadata": {},
   "outputs": [
    {
     "name": "stdout",
     "output_type": "stream",
     "text": [
      "array1 [55.33253689 71.80374727 60.67357423 54.94343512 42.94182513]\n",
      "array2 [-0.72582032  0.56347552 -0.43563209 -0.10455255 -2.32127283]\n",
      "array3 [4 5 5 3 8]\n"
     ]
    }
   ],
   "source": [
    "array1=np.random.uniform(1,100,10000)\n",
    "array2=np.random.normal(0,1,10000)\n",
    "array3=np.random.binomial(10,0.5,10000)\n",
    "print('array1',array1[:5])\n",
    "print('array2',array2[:5])\n",
    "print('array3',array3[:5])"
   ]
  },
  {
   "cell_type": "markdown",
   "metadata": {},
   "source": [
    "### 2. For each array, randomly sample 1,000 rows without replacement. (hint: `np.random.choice()`)\n"
   ]
  },
  {
   "cell_type": "code",
   "execution_count": 4,
   "metadata": {},
   "outputs": [
    {
     "name": "stdout",
     "output_type": "stream",
     "text": [
      "ch1 [25.78942307 22.82505784 72.23603848 73.69670482 29.80696432]\n",
      "ch2 [-2.33277117  1.63920097 -1.08501398  0.06679293 -0.41540346]\n",
      "ch3 [6 6 5 7 3]\n"
     ]
    }
   ],
   "source": [
    "ch1=np.random.choice(array1,1000,replace=False)\n",
    "ch2=np.random.choice(array2,1000,replace=False)\n",
    "ch3=np.random.choice(array3,1000,replace=False)\n",
    "print('ch1',ch1[:5])\n",
    "print('ch2',ch2[:5])\n",
    "print('ch3',ch3[:5]) "
   ]
  },
  {
   "cell_type": "markdown",
   "metadata": {},
   "source": [
    "### 3. For each of the three samples:  \n",
    "- Calculate the mean, median, and standard deviation \n",
    "- Find the index and the value of the largest element (hint: `np.argmax()`)  \n",
    "- Find the value of the 75th percentile (hint: `np.percentile()`)  "
   ]
  },
  {
   "cell_type": "code",
   "execution_count": 5,
   "metadata": {},
   "outputs": [
    {
     "name": "stdout",
     "output_type": "stream",
     "text": [
      "Sample 1:\n",
      "Mean: 50.552213219585695\n",
      "Median: 50.00499476743026\n",
      "Standard Deviation: 28.406698883921372\n",
      "Largest Indax: 255\n",
      "Largest Element: 99.83117493278014\n",
      "75th Percentile: 75.20925502271464\n",
      "\n",
      "Sample 2:\n",
      "Mean: -0.033986719219710367\n",
      "Median: -0.026937092247233604\n",
      "Standard Deviation: 0.9747233951952765\n",
      "Largest Indax: 628\n",
      "Largest Element: 2.699568441630259\n",
      "75th Percentile: 0.6323050377198595\n",
      "\n",
      "Sample 3:\n",
      "Mean: 4.896\n",
      "Median: 5.0\n",
      "Standard Deviation: 1.562428878381349\n",
      "Largest Indax: 7\n",
      "Largest Element: 10\n",
      "75th Percentile: 6.0\n",
      "\n"
     ]
    }
   ],
   "source": [
    "\n",
    "samples = [ch1, ch2, ch3]\n",
    " \n",
    "def calc(element):\n",
    "    mean = np.mean(element)\n",
    "    median = np.median(element)\n",
    "    std_dev = np.std(element)\n",
    "    mx_ind = np.argmax(element)\n",
    "    mx_val = element[mx_ind]\n",
    "    percentile_75 = np.percentile(element, 75)\n",
    "   \n",
    "    return mean, median, std_dev, mx_ind, mx_val, percentile_75\n",
    " \n",
    "lst = [calc(sample) for sample in samples]\n",
    "for i in range(len(lst)):\n",
    "    stats = lst[i]\n",
    "    print(f\"Sample {i+1}:\")\n",
    "    print(f\"Mean: {stats[0]}\")\n",
    "    print(f\"Median: {stats[1]}\")\n",
    "    print(f\"Standard Deviation: {stats[2]}\")\n",
    "    print(f\"Largest Indax: {stats[3]}\")\n",
    "    print(f\"Largest Element: {stats[4]}\")\n",
    "    print(f\"75th Percentile: {stats[5]}\")\n",
    "    print()\n"
   ]
  },
  {
   "cell_type": "markdown",
   "metadata": {},
   "source": [
    "### 4. Sort each of the three samples in increasing order, then combine them together to create a 1,000 by 3 array. (hint: `np.sort()` and `np.stack()`). Now, check the shape of the array."
   ]
  },
  {
   "cell_type": "code",
   "execution_count": 6,
   "metadata": {},
   "outputs": [
    {
     "name": "stdout",
     "output_type": "stream",
     "text": [
      "(1000, 3)\n"
     ]
    }
   ],
   "source": [
    "sortarr=[np.sort(sample) for sample in samples]\n",
    "#print(sortarr[:5])\n",
    "comarr=np.stack(sortarr,axis=1)\n",
    "arrshap=comarr.shape\n",
    "print(arrshap)"
   ]
  },
  {
   "cell_type": "markdown",
   "metadata": {},
   "source": [
    "### 5. Replace all negative values with 0. Replace all values that exceed 10 with 10."
   ]
  },
  {
   "cell_type": "code",
   "execution_count": 7,
   "metadata": {},
   "outputs": [
    {
     "data": {
      "text/plain": [
       "(1000, 3)"
      ]
     },
     "execution_count": 7,
     "metadata": {},
     "output_type": "execute_result"
    }
   ],
   "source": [
    "comarr[comarr<0]=0\n",
    "comarr[comarr>10]=10\n",
    "comarr.shape"
   ]
  },
  {
   "cell_type": "markdown",
   "metadata": {},
   "source": [
    "### 6. Subtract 5 from all values that exceed 5. (hint: `np.where()`)"
   ]
  },
  {
   "cell_type": "code",
   "execution_count": 9,
   "metadata": {},
   "outputs": [
    {
     "data": {
      "text/plain": [
       "(1000, 3)"
      ]
     },
     "execution_count": 9,
     "metadata": {},
     "output_type": "execute_result"
    }
   ],
   "source": [
    "subarr = np.where(comarr > 5, comarr - 5, comarr)\n",
    "subarr.shape"
   ]
  },
  {
   "cell_type": "markdown",
   "metadata": {},
   "source": [
    "### 7. Produce a fourth column that is the sum of the first two columns.  (hint: `np.hstack()`). Now check the new shape of the array."
   ]
  },
  {
   "cell_type": "code",
   "execution_count": 15,
   "metadata": {},
   "outputs": [
    {
     "name": "stdout",
     "output_type": "stream",
     "text": [
      "[[1.1110819  0.         1.         1.1110819 ]\n",
      " [1.13557152 0.         1.         1.13557152]\n",
      " [1.13695165 0.         1.         1.13695165]\n",
      " [1.16469874 0.         1.         1.16469874]\n",
      " [1.19416691 0.         1.         1.19416691]]\n"
     ]
    }
   ],
   "source": [
    "fourth_col = subarr[:, 0] + subarr[:, 1]\n",
    "\n",
    "newarr = np.hstack((subarr, fourth_col.reshape(-1, 1)))\n",
    "newarr.shape\n",
    "\n",
    "print(newarr[:5])\n"
   ]
  },
  {
   "cell_type": "markdown",
   "metadata": {},
   "source": [
    "### 8. Use broadcasting to add 1 to each element of the first column, 2 to each element of the second column, 3 to each element of the third column, and 4 to each element of the fourth column."
   ]
  },
  {
   "cell_type": "code",
   "execution_count": 14,
   "metadata": {},
   "outputs": [
    {
     "data": {
      "text/plain": [
       "(1000, 4)"
      ]
     },
     "execution_count": 14,
     "metadata": {},
     "output_type": "execute_result"
    }
   ],
   "source": [
    "addval = np.array([1, 2, 3, 4])\n",
    "newarr += addval\n",
    "newarr.shape"
   ]
  },
  {
   "cell_type": "markdown",
   "metadata": {},
   "source": [
    "### 9. Matrix multiply this 1000x4 array by a 4x1 array of ones. How many unique values are in the resulting product?  (hint: `np.unique()`)"
   ]
  },
  {
   "cell_type": "code",
   "execution_count": 16,
   "metadata": {},
   "outputs": [
    {
     "name": "stdout",
     "output_type": "stream",
     "text": [
      "num of unique: 571\n"
     ]
    }
   ],
   "source": [
    "ones_arr = np.ones((4, 1))\n",
    "res = np.dot(newarr, ones_arr)\n",
    "\n",
    "unique_val = np.unique(res)\n",
    "num_unique = len(unique_val)\n",
    "\n",
    "print(f\"num of unique: {num_unique}\")"
   ]
  },
  {
   "cell_type": "markdown",
   "metadata": {},
   "source": [
    "# Thank You"
   ]
  }
 ],
 "metadata": {
  "kernelspec": {
   "display_name": "Python 3 (ipykernel)",
   "language": "python",
   "name": "python3"
  },
  "language_info": {
   "codemirror_mode": {
    "name": "ipython",
    "version": 3
   },
   "file_extension": ".py",
   "mimetype": "text/x-python",
   "name": "python",
   "nbconvert_exporter": "python",
   "pygments_lexer": "ipython3",
   "version": "3.11.7"
  },
  "toc": {
   "base_numbering": 1,
   "nav_menu": {},
   "number_sections": false,
   "sideBar": true,
   "skip_h1_title": false,
   "title_cell": "Table of Contents",
   "title_sidebar": "Contents",
   "toc_cell": false,
   "toc_position": {},
   "toc_section_display": true,
   "toc_window_display": true
  }
 },
 "nbformat": 4,
 "nbformat_minor": 4
}
