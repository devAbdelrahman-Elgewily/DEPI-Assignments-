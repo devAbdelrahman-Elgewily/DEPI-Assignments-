{
 "cells": [
  {
   "cell_type": "markdown",
   "metadata": {},
   "source": [
    "## Loading/Exploring the data\n",
    "\n",
    "Load the iris.csv file into a pandas dataframe. Take a minute to familiarize yourself with the data."
   ]
  },
  {
   "cell_type": "markdown",
   "metadata": {},
   "source": [
    "## Import Pandas\n",
    "\n",
    "Import the `pandas` library as `pd`"
   ]
  },
  {
   "cell_type": "code",
   "execution_count": 2,
   "metadata": {},
   "outputs": [],
   "source": [
    "import pandas as pd"
   ]
  },
  {
   "cell_type": "markdown",
   "metadata": {},
   "source": [
    "Read the `iris.csv` dataset into an object named `iris`"
   ]
  },
  {
   "cell_type": "code",
   "execution_count": 23,
   "metadata": {},
   "outputs": [
    {
     "name": "stdout",
     "output_type": "stream",
     "text": [
      "Exported\n"
     ]
    }
   ],
   "source": [
    "iris = pd.read_csv('iris.csv')\n",
    "print(\"Exported\")"
   ]
  },
  {
   "cell_type": "markdown",
   "metadata": {},
   "source": [
    "How many different species are in this dataset?"
   ]
  },
  {
   "cell_type": "code",
   "execution_count": 25,
   "metadata": {},
   "outputs": [
    {
     "name": "stdout",
     "output_type": "stream",
     "text": [
      "3\n"
     ]
    }
   ],
   "source": [
    "num_of_species = iris['species'].nunique()\n",
    "print(num_of_species)"
   ]
  },
  {
   "cell_type": "markdown",
   "metadata": {},
   "source": [
    "What are their names?"
   ]
  },
  {
   "cell_type": "code",
   "execution_count": 27,
   "metadata": {},
   "outputs": [
    {
     "name": "stdout",
     "output_type": "stream",
     "text": [
      "['setosa' 'versicolor' 'virginica']\n"
     ]
    }
   ],
   "source": [
    "names = iris['species'].unique()\n",
    "print(names)"
   ]
  },
  {
   "cell_type": "markdown",
   "metadata": {},
   "source": [
    "How many samples are there per species?\n",
    "\n",
    "<details><summary>Hint</summary>Use the <a href=\"http://pandas.pydata.org/pandas-docs/stable/generated/pandas.Series.value_counts.html\"><code>.value_counts()</code></a> method</details>"
   ]
  },
  {
   "cell_type": "code",
   "execution_count": 32,
   "metadata": {},
   "outputs": [
    {
     "name": "stdout",
     "output_type": "stream",
     "text": [
      "species\n",
      "setosa        50\n",
      "versicolor    50\n",
      "virginica     50\n",
      "Name: count, dtype: int64\n"
     ]
    }
   ],
   "source": [
    "num_of_samples = iris['species'].value_counts()\n",
    "print(num_of_samples)"
   ]
  },
  {
   "cell_type": "markdown",
   "metadata": {},
   "source": [
    "## Feature Engineering\n",
    "\n",
    "Create a new column called `'sepal_ratio'` which is equal to sepal width / sepal length"
   ]
  },
  {
   "cell_type": "code",
   "execution_count": 41,
   "metadata": {},
   "outputs": [
    {
     "name": "stdout",
     "output_type": "stream",
     "text": [
      "     sepal length (cm)  sepal width (cm)  petal length (cm)  petal width (cm)  \\\n",
      "0                  5.1               3.5                1.4               0.2   \n",
      "1                  4.9               3.0                1.4               0.2   \n",
      "2                  4.7               3.2                1.3               0.2   \n",
      "3                  4.6               3.1                1.5               0.2   \n",
      "4                  5.0               3.6                1.4               0.2   \n",
      "..                 ...               ...                ...               ...   \n",
      "145                6.7               3.0                5.2               2.3   \n",
      "146                6.3               2.5                5.0               1.9   \n",
      "147                6.5               3.0                5.2               2.0   \n",
      "148                6.2               3.4                5.4               2.3   \n",
      "149                5.9               3.0                5.1               1.8   \n",
      "\n",
      "       species  sepal_ratio  \n",
      "0       setosa     0.686275  \n",
      "1       setosa     0.612245  \n",
      "2       setosa     0.680851  \n",
      "3       setosa     0.673913  \n",
      "4       setosa     0.720000  \n",
      "..         ...          ...  \n",
      "145  virginica     0.447761  \n",
      "146  virginica     0.396825  \n",
      "147  virginica     0.461538  \n",
      "148  virginica     0.548387  \n",
      "149  virginica     0.508475  \n",
      "\n",
      "[150 rows x 6 columns]\n"
     ]
    }
   ],
   "source": [
    "iris['sepal_ratio'] = iris['sepal width (cm)'] / iris['sepal length (cm)']\n",
    "print(iris)"
   ]
  },
  {
   "cell_type": "markdown",
   "metadata": {},
   "source": [
    "Create a similar column called `'petal_ratio'`: petal width / petal length"
   ]
  },
  {
   "cell_type": "code",
   "execution_count": 45,
   "metadata": {},
   "outputs": [
    {
     "name": "stdout",
     "output_type": "stream",
     "text": [
      "     sepal length (cm)  sepal width (cm)  petal length (cm)  petal width (cm)  \\\n",
      "0                  5.1               3.5                1.4               0.2   \n",
      "1                  4.9               3.0                1.4               0.2   \n",
      "2                  4.7               3.2                1.3               0.2   \n",
      "3                  4.6               3.1                1.5               0.2   \n",
      "4                  5.0               3.6                1.4               0.2   \n",
      "..                 ...               ...                ...               ...   \n",
      "145                6.7               3.0                5.2               2.3   \n",
      "146                6.3               2.5                5.0               1.9   \n",
      "147                6.5               3.0                5.2               2.0   \n",
      "148                6.2               3.4                5.4               2.3   \n",
      "149                5.9               3.0                5.1               1.8   \n",
      "\n",
      "       species  sepal_ratio  petal_ratio  \n",
      "0       setosa     0.686275     0.142857  \n",
      "1       setosa     0.612245     0.142857  \n",
      "2       setosa     0.680851     0.153846  \n",
      "3       setosa     0.673913     0.133333  \n",
      "4       setosa     0.720000     0.142857  \n",
      "..         ...          ...          ...  \n",
      "145  virginica     0.447761     0.442308  \n",
      "146  virginica     0.396825     0.380000  \n",
      "147  virginica     0.461538     0.384615  \n",
      "148  virginica     0.548387     0.425926  \n",
      "149  virginica     0.508475     0.352941  \n",
      "\n",
      "[150 rows x 7 columns]\n"
     ]
    }
   ],
   "source": [
    "iris['petal_ratio'] = iris['petal width (cm)'] / iris['petal length (cm)']\n",
    "print(iris)"
   ]
  },
  {
   "cell_type": "markdown",
   "metadata": {},
   "source": [
    "Create 4 columns that correspond to `sepal length (cm)`, `sepal width (cm)`, `petal length (cm)`, and `petal width (cm)`, only in inches."
   ]
  },
  {
   "cell_type": "code",
   "execution_count": 51,
   "metadata": {},
   "outputs": [
    {
     "name": "stdout",
     "output_type": "stream",
     "text": [
      "     sepal length (cm)  sepal width (cm)  petal length (cm)  petal width (cm)  \\\n",
      "0                  5.1               3.5                1.4               0.2   \n",
      "1                  4.9               3.0                1.4               0.2   \n",
      "2                  4.7               3.2                1.3               0.2   \n",
      "3                  4.6               3.1                1.5               0.2   \n",
      "4                  5.0               3.6                1.4               0.2   \n",
      "..                 ...               ...                ...               ...   \n",
      "145                6.7               3.0                5.2               2.3   \n",
      "146                6.3               2.5                5.0               1.9   \n",
      "147                6.5               3.0                5.2               2.0   \n",
      "148                6.2               3.4                5.4               2.3   \n",
      "149                5.9               3.0                5.1               1.8   \n",
      "\n",
      "       species  sepal_ratio  petal_ratio  sepal_length (in)  sepal_width (in)  \\\n",
      "0       setosa     0.686275     0.142857           2.007875          1.377954   \n",
      "1       setosa     0.612245     0.142857           1.929135          1.181103   \n",
      "2       setosa     0.680851     0.153846           1.850395          1.259843   \n",
      "3       setosa     0.673913     0.133333           1.811025          1.220473   \n",
      "4       setosa     0.720000     0.142857           1.968505          1.417324   \n",
      "..         ...          ...          ...                ...               ...   \n",
      "145  virginica     0.447761     0.442308           2.637797          1.181103   \n",
      "146  virginica     0.396825     0.380000           2.480316          0.984253   \n",
      "147  virginica     0.461538     0.384615           2.559057          1.181103   \n",
      "148  virginica     0.548387     0.425926           2.440946          1.338583   \n",
      "149  virginica     0.508475     0.352941           2.322836          1.181103   \n",
      "\n",
      "     petal_length (in)  petal_width (in)  \n",
      "0             0.551181          0.078740  \n",
      "1             0.551181          0.078740  \n",
      "2             0.511811          0.078740  \n",
      "3             0.590552          0.078740  \n",
      "4             0.551181          0.078740  \n",
      "..                 ...               ...  \n",
      "145           2.047245          0.905512  \n",
      "146           1.968505          0.748032  \n",
      "147           2.047245          0.787402  \n",
      "148           2.125985          0.905512  \n",
      "149           2.007875          0.708662  \n",
      "\n",
      "[150 rows x 11 columns]\n"
     ]
    }
   ],
   "source": [
    "inch = 0.393701\n",
    "\n",
    "iris[\"sepal_length (in)\"] = iris[\"sepal length (cm)\"] * inch\n",
    "iris[\"sepal_width (in)\"] = iris[\"sepal width (cm)\"] * inch\n",
    "iris[\"petal_length (in)\"] = iris[\"petal length (cm)\"] * inch\n",
    "iris[\"petal_width (in)\"] = iris[\"petal width (cm)\"] * inch\n",
    "\n",
    "print(iris)"
   ]
  },
  {
   "cell_type": "markdown",
   "metadata": {},
   "source": [
    "## Apply\n",
    "\n",
    "Create a column called `'encoded_species'`:\n",
    "- 0 for setosa\n",
    "- 1 for versicolor\n",
    "- 2 for virginica\n",
    "\n",
    "\n",
    "Hint 1\n",
    "Create a dictionary using the species as keys and the numbers 0-2 for values\n",
    "\n",
    "\n",
    "Hint 2\n",
    "    Use the dictionary in hint 1 with the <code>.apply()</code> method to create the new column\n"
   ]
  },
  {
   "cell_type": "code",
   "execution_count": 53,
   "metadata": {},
   "outputs": [
    {
     "name": "stdout",
     "output_type": "stream",
     "text": [
      "     sepal length (cm)  sepal width (cm)  petal length (cm)  petal width (cm)  \\\n",
      "0                  5.1               3.5                1.4               0.2   \n",
      "1                  4.9               3.0                1.4               0.2   \n",
      "2                  4.7               3.2                1.3               0.2   \n",
      "3                  4.6               3.1                1.5               0.2   \n",
      "4                  5.0               3.6                1.4               0.2   \n",
      "..                 ...               ...                ...               ...   \n",
      "145                6.7               3.0                5.2               2.3   \n",
      "146                6.3               2.5                5.0               1.9   \n",
      "147                6.5               3.0                5.2               2.0   \n",
      "148                6.2               3.4                5.4               2.3   \n",
      "149                5.9               3.0                5.1               1.8   \n",
      "\n",
      "       species  sepal_ratio  petal_ratio  sepal_length (in)  sepal_width (in)  \\\n",
      "0       setosa     0.686275     0.142857           2.007875          1.377954   \n",
      "1       setosa     0.612245     0.142857           1.929135          1.181103   \n",
      "2       setosa     0.680851     0.153846           1.850395          1.259843   \n",
      "3       setosa     0.673913     0.133333           1.811025          1.220473   \n",
      "4       setosa     0.720000     0.142857           1.968505          1.417324   \n",
      "..         ...          ...          ...                ...               ...   \n",
      "145  virginica     0.447761     0.442308           2.637797          1.181103   \n",
      "146  virginica     0.396825     0.380000           2.480316          0.984253   \n",
      "147  virginica     0.461538     0.384615           2.559057          1.181103   \n",
      "148  virginica     0.548387     0.425926           2.440946          1.338583   \n",
      "149  virginica     0.508475     0.352941           2.322836          1.181103   \n",
      "\n",
      "     petal_length (in)  petal_width (in)  encoded_species  \n",
      "0             0.551181          0.078740                0  \n",
      "1             0.551181          0.078740                0  \n",
      "2             0.511811          0.078740                0  \n",
      "3             0.590552          0.078740                0  \n",
      "4             0.551181          0.078740                0  \n",
      "..                 ...               ...              ...  \n",
      "145           2.047245          0.905512                2  \n",
      "146           1.968505          0.748032                2  \n",
      "147           2.047245          0.787402                2  \n",
      "148           2.125985          0.905512                2  \n",
      "149           2.007875          0.708662                2  \n",
      "\n",
      "[150 rows x 12 columns]\n"
     ]
    }
   ],
   "source": [
    "species_encoding = {\"setosa\": 0, \"versicolor\": 1, \"virginica\": 2}\n",
    "iris[\"encoded_species\"] = iris[\"species\"].apply(lambda x: species_encoding[x])\n",
    "\n",
    "print(iris)\n"
   ]
  },
  {
   "cell_type": "markdown",
   "metadata": {},
   "source": [
    "## March Madness\n",
    "\n",
    "Let's change up the dataset to something different than flowers: March Madness!\n",
    "\n",
    "Read in the dataset `ncaa-seeds.csv` to an object named `seeds`.\n",
    "\n",
    "This dataframe simulates the games that will occur in the first round of the [NCAA basketball tournament](http://www.sportingnews.com/au/ncaa-basketball/news/ncaa-tournament-2017-march-madness-bracket-schedule-matchups-print-a-bracket/1r6cau9sb1xj4131zzhay2dj5g). In the first row, you should see the following:\n",
    "\n",
    "| team_seed | opponent_seed |\n",
    "|-----------|---------------|\n",
    "| 01N       | 16N           |"
   ]
  },
  {
   "cell_type": "code",
   "execution_count": 63,
   "metadata": {},
   "outputs": [
    {
     "name": "stdout",
     "output_type": "stream",
     "text": [
      "  team_seed,opponent_seed\n",
      "0                 01N,16N\n",
      "1                 02N,15N\n",
      "2                 03N,14N\n",
      "3                 04N,13N\n",
      "4                 05N,12N\n"
     ]
    }
   ],
   "source": [
    "game = pd.read_csv(\"ncaa-seeds.csv\")\n",
    "print(game.head())\n"
   ]
  },
  {
   "cell_type": "markdown",
   "metadata": {},
   "source": [
    "For team_seed, the 01 is their seed, and N is their division (North). This row is saying the 1st seed in the north division will play the 16th seed (same division).\n",
    "\n",
    "Using the `.apply()` method, create the following new columns:\n",
    "- `team_division`\n",
    "- `opponent_division`\n",
    "\n",
    "The first row of your result should look as follows:\n",
    "\n",
    "| team_seed | opponent_seed | team_division | opponent_division |\n",
    "|-----------|---------------|---------------|-------------------|\n",
    "| 01N       | 16N           | N             | N                 |\n"
   ]
  },
  {
   "cell_type": "code",
   "execution_count": 72,
   "metadata": {},
   "outputs": [
    {
     "name": "stdout",
     "output_type": "stream",
     "text": [
      "  team_seed opponent_seed team_division opponent_division\n",
      "0       01N           16N             N                 N\n",
      "1       02S           15S             S                 S\n",
      "2       03E           14E             E                 E\n",
      "3       04W           13W             W                 W\n",
      "4       05N           12N             N                 N\n"
     ]
    }
   ],
   "source": [
    "data = {\"team_seed\": [\"01N\", \"02S\", \"03E\", \"04W\", \"05N\"],\"opponent_seed\": [\"16N\", \"15S\", \"14E\", \"13W\", \"12N\"]}\n",
    "game = pd.DataFrame(data)\n",
    "game[\"team_division\"] = game[\"team_seed\"].apply(lambda x: x[-1])\n",
    "game[\"opponent_division\"] = game[\"opponent_seed\"].apply(lambda x: x[-1])\n",
    "\n",
    "print(game)"
   ]
  },
  {
   "cell_type": "markdown",
   "metadata": {},
   "source": [
    "Now that you have the divisions, change the `team_seed` and `opponent_seed` columns to just be the numbers.\n",
    "\n",
    "The first row of your result should look as follows:\n",
    "\n",
    "| team_seed | opponent_seed | team_division | opponent_division |\n",
    "|-----------|---------------|---------------|-------------------|\n",
    "| 1         | 16            | N             | N                 |"
   ]
  },
  {
   "cell_type": "code",
   "execution_count": 75,
   "metadata": {},
   "outputs": [
    {
     "name": "stdout",
     "output_type": "stream",
     "text": [
      "   team_seed  opponent_seed team_division opponent_division\n",
      "0          1             16             N                 N\n",
      "1          2             15             S                 S\n",
      "2          3             14             E                 E\n",
      "3          4             13             W                 W\n",
      "4          5             12             N                 N\n"
     ]
    }
   ],
   "source": [
    "game.columns = game.columns.str.strip()\n",
    "game[\"team_division\"] = game[\"team_seed\"].apply(lambda x: x[-1])\n",
    "game[\"opponent_division\"] = game[\"opponent_seed\"].apply(lambda x: x[-1])\n",
    "\n",
    "game[\"team_seed\"] = game[\"team_seed\"].apply(lambda x: int(x[:-1]))\n",
    "game[\"opponent_seed\"] = game[\"opponent_seed\"].apply(lambda x: int(x[:-1]))\n",
    "\n",
    "print(game)"
   ]
  },
  {
   "cell_type": "markdown",
   "metadata": {},
   "source": [
    "Create a new column called seed_delta, which is the difference between the team's seed and their opponent's. \n",
    "\n",
    "The first row of your result should look as follows:\n",
    "\n",
    "| team_seed | opponent_seed | team_division | opponent_division | seed_delta |\n",
    "|-----------|---------------|---------------|-------------------|------------|\n",
    "| 1         | 16            | N             | N                 | -15        |\n",
    "\n",
    "<br>\n",
    "<details><summary>Did you get an error?</summary>\n",
    "team_seed and opponent_seed need to be numerical columns in order for you to perform mathematical operations on them.\n",
    "</details>"
   ]
  },
  {
   "cell_type": "code",
   "execution_count": 79,
   "metadata": {},
   "outputs": [
    {
     "name": "stdout",
     "output_type": "stream",
     "text": [
      "   team_seed  opponent_seed team_division opponent_division  seed_delta\n",
      "0          1             16             N                 N         -15\n",
      "1          2             15             S                 S         -13\n",
      "2          3             14             E                 E         -11\n",
      "3          4             13             W                 W          -9\n",
      "4          5             12             N                 N          -7\n"
     ]
    }
   ],
   "source": [
    "game[\"seed_delta\"] = game[\"team_seed\"] - game[\"opponent_seed\"]\n",
    "print(game)"
   ]
  }
 ],
 "metadata": {
  "anaconda-cloud": {},
  "kernelspec": {
   "display_name": "Python 3 (ipykernel)",
   "language": "python",
   "name": "python3"
  },
  "language_info": {
   "codemirror_mode": {
    "name": "ipython",
    "version": 3
   },
   "file_extension": ".py",
   "mimetype": "text/x-python",
   "name": "python",
   "nbconvert_exporter": "python",
   "pygments_lexer": "ipython3",
   "version": "3.12.7"
  }
 },
 "nbformat": 4,
 "nbformat_minor": 4
}
